{
 "metadata": {
  "language_info": {
   "codemirror_mode": {
    "name": "ipython",
    "version": 3
   },
   "file_extension": ".py",
   "mimetype": "text/x-python",
   "name": "python",
   "nbconvert_exporter": "python",
   "pygments_lexer": "ipython3",
   "version": "3.8.3"
  },
  "orig_nbformat": 2,
  "kernelspec": {
   "name": "python38364bit1818c8020fb1411ea722056923b143a3",
   "display_name": "Python 3.8.3 64-bit"
  },
  "metadata": {
   "interpreter": {
    "hash": "d7f35dd6cae827566a9d8dad183a08bee2c23219e7e2b9ff2c202c0227dff7eb"
   }
  }
 },
 "nbformat": 4,
 "nbformat_minor": 2,
 "cells": [
  {
   "cell_type": "code",
   "execution_count": 18,
   "metadata": {},
   "outputs": [],
   "source": [
    "from psaw import PushshiftAPI\n",
    "import datetime as dt\n",
    "import pandas as pd\n",
    "import time\n",
    "from nltk.sentiment.vader import SentimentIntensityAnalyzer as SIA\n",
    "import nltk\n",
    "\n",
    "from pyspark.sql import SparkSession\n",
    "from pyspark.sql.functions import col, udf\n",
    "from pyspark.sql.types import FloatType, StringType\n",
    "from textblob import TextBlob"
   ]
  },
  {
   "cell_type": "code",
   "execution_count": 19,
   "metadata": {},
   "outputs": [],
   "source": [
    "reddit_titles_df = pd.read_parquet('./data/reddit_titles.parquet.gzip')"
   ]
  },
  {
   "cell_type": "code",
   "execution_count": 20,
   "metadata": {},
   "outputs": [],
   "source": [
    "spark_session = SparkSession \\\n",
    "    .builder \\\n",
    "    .appName('Python Spark SQL basic example') \\\n",
    "    .getOrCreate()"
   ]
  },
  {
   "cell_type": "code",
   "execution_count": 21,
   "metadata": {},
   "outputs": [],
   "source": [
    "df_sp = spark_session.createDataFrame(reddit_titles_df)"
   ]
  },
  {
   "cell_type": "code",
   "execution_count": 22,
   "metadata": {},
   "outputs": [],
   "source": [
    "sentiment = udf(lambda x: TextBlob(x).sentiment[0])\n",
    "spark_session.udf.register('sentiment', sentiment)\n",
    "df_sp = df_sp.withColumn('compound', sentiment('title').cast('float'))"
   ]
  },
  {
   "cell_type": "code",
   "execution_count": 23,
   "metadata": {},
   "outputs": [],
   "source": [
    "df = df_sp.toPandas()"
   ]
  },
  {
   "cell_type": "code",
   "execution_count": 24,
   "metadata": {},
   "outputs": [
    {
     "output_type": "execute_result",
     "data": {
      "text/plain": [
       "                    date                                              title  \\\n",
       "0    2021-03-15 04:01:22                             .1 bitcoin in 10 years   \n",
       "1    2021-03-15 04:02:48                              Question about mining   \n",
       "2    2021-03-15 04:04:14  Finding This Tonight. Who has 2M and Time to L...   \n",
       "3    2021-03-15 04:06:36  Is it unwise to invest 25% of my surgery savin...   \n",
       "4    2021-03-15 04:07:16  A Variety of Popular Celebrities Are Selling N...   \n",
       "...                  ...                                                ...   \n",
       "7409 2021-04-14 03:44:45                                    Bitcoin Tsunami   \n",
       "7410 2021-04-14 03:49:02  How is bitcoin8m created and why it won’t caus...   \n",
       "7411 2021-04-14 03:51:53                        Bitcoin is not a currrency.   \n",
       "7412 2021-04-14 03:56:00  Thoughts on Coinbase Stock as opposed to just ...   \n",
       "7413 2021-04-14 03:57:57                         What’s your exit strategy?   \n",
       "\n",
       "      compound  \n",
       "0     0.000000  \n",
       "1     0.000000  \n",
       "2     0.000000  \n",
       "3     0.000000  \n",
       "4     0.600000  \n",
       "...        ...  \n",
       "7409  0.000000  \n",
       "7410 -0.120833  \n",
       "7411  0.000000  \n",
       "7412  0.500000  \n",
       "7413  0.000000  \n",
       "\n",
       "[7414 rows x 3 columns]"
      ],
      "text/html": "<div>\n<style scoped>\n    .dataframe tbody tr th:only-of-type {\n        vertical-align: middle;\n    }\n\n    .dataframe tbody tr th {\n        vertical-align: top;\n    }\n\n    .dataframe thead th {\n        text-align: right;\n    }\n</style>\n<table border=\"1\" class=\"dataframe\">\n  <thead>\n    <tr style=\"text-align: right;\">\n      <th></th>\n      <th>date</th>\n      <th>title</th>\n      <th>compound</th>\n    </tr>\n  </thead>\n  <tbody>\n    <tr>\n      <th>0</th>\n      <td>2021-03-15 04:01:22</td>\n      <td>.1 bitcoin in 10 years</td>\n      <td>0.000000</td>\n    </tr>\n    <tr>\n      <th>1</th>\n      <td>2021-03-15 04:02:48</td>\n      <td>Question about mining</td>\n      <td>0.000000</td>\n    </tr>\n    <tr>\n      <th>2</th>\n      <td>2021-03-15 04:04:14</td>\n      <td>Finding This Tonight. Who has 2M and Time to L...</td>\n      <td>0.000000</td>\n    </tr>\n    <tr>\n      <th>3</th>\n      <td>2021-03-15 04:06:36</td>\n      <td>Is it unwise to invest 25% of my surgery savin...</td>\n      <td>0.000000</td>\n    </tr>\n    <tr>\n      <th>4</th>\n      <td>2021-03-15 04:07:16</td>\n      <td>A Variety of Popular Celebrities Are Selling N...</td>\n      <td>0.600000</td>\n    </tr>\n    <tr>\n      <th>...</th>\n      <td>...</td>\n      <td>...</td>\n      <td>...</td>\n    </tr>\n    <tr>\n      <th>7409</th>\n      <td>2021-04-14 03:44:45</td>\n      <td>Bitcoin Tsunami</td>\n      <td>0.000000</td>\n    </tr>\n    <tr>\n      <th>7410</th>\n      <td>2021-04-14 03:49:02</td>\n      <td>How is bitcoin8m created and why it won’t caus...</td>\n      <td>-0.120833</td>\n    </tr>\n    <tr>\n      <th>7411</th>\n      <td>2021-04-14 03:51:53</td>\n      <td>Bitcoin is not a currrency.</td>\n      <td>0.000000</td>\n    </tr>\n    <tr>\n      <th>7412</th>\n      <td>2021-04-14 03:56:00</td>\n      <td>Thoughts on Coinbase Stock as opposed to just ...</td>\n      <td>0.500000</td>\n    </tr>\n    <tr>\n      <th>7413</th>\n      <td>2021-04-14 03:57:57</td>\n      <td>What’s your exit strategy?</td>\n      <td>0.000000</td>\n    </tr>\n  </tbody>\n</table>\n<p>7414 rows × 3 columns</p>\n</div>"
     },
     "metadata": {},
     "execution_count": 24
    }
   ],
   "source": [
    "df"
   ]
  },
  {
   "cell_type": "code",
   "execution_count": null,
   "metadata": {},
   "outputs": [],
   "source": []
  }
 ]
}