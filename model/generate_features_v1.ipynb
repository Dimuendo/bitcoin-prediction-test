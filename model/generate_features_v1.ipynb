{
 "metadata": {
  "language_info": {
   "codemirror_mode": {
    "name": "ipython",
    "version": 3
   },
   "file_extension": ".py",
   "mimetype": "text/x-python",
   "name": "python",
   "nbconvert_exporter": "python",
   "pygments_lexer": "ipython3",
   "version": "3.8.3"
  },
  "orig_nbformat": 2,
  "kernelspec": {
   "name": "python38364bit1818c8020fb1411ea722056923b143a3",
   "display_name": "Python 3.8.3 64-bit"
  },
  "metadata": {
   "interpreter": {
    "hash": "d7f35dd6cae827566a9d8dad183a08bee2c23219e7e2b9ff2c202c0227dff7eb"
   }
  }
 },
 "nbformat": 4,
 "nbformat_minor": 2,
 "cells": [
  {
   "cell_type": "code",
   "execution_count": 23,
   "metadata": {},
   "outputs": [],
   "source": [
    "import pandas as pd"
   ]
  },
  {
   "cell_type": "code",
   "execution_count": 24,
   "metadata": {},
   "outputs": [],
   "source": [
    "bitcoin_prices_df = pd.read_parquet('../data/bitcoin_prices.parquet.gzip')\n",
    "reddit_titles_df = pd.read_parquet('../data/reddit_titles.parquet.gzip')\n",
    "sentiment_scores_df = pd.read_parquet('../data/sentiment_scores.parquet.gzip')"
   ]
  },
  {
   "cell_type": "code",
   "execution_count": 11,
   "metadata": {},
   "outputs": [],
   "source": [
    "sentiment_scores_df = sentiment_scores_df.rename(columns={\n",
    "    'date': 'orig_date',\n",
    "    'offset_date': 'date'\n",
    "})"
   ]
  },
  {
   "cell_type": "code",
   "execution_count": 12,
   "metadata": {},
   "outputs": [
    {
     "output_type": "execute_result",
     "data": {
      "text/plain": [
       "              orig_date  compound                date\n",
       "0   2021-03-15 03:00:00  0.039934 2021-03-15 06:00:00\n",
       "1   2021-03-15 06:00:00  0.007725 2021-03-15 09:00:00\n",
       "2   2021-03-15 09:00:00  0.081969 2021-03-15 12:00:00\n",
       "3   2021-03-15 12:00:00  0.124559 2021-03-15 15:00:00\n",
       "4   2021-03-15 15:00:00  0.071304 2021-03-15 18:00:00\n",
       "..                  ...       ...                 ...\n",
       "236 2021-04-13 15:00:00       NaN 2021-04-13 18:00:00\n",
       "237 2021-04-13 18:00:00       NaN 2021-04-13 21:00:00\n",
       "238 2021-04-13 21:00:00       NaN 2021-04-14 00:00:00\n",
       "239 2021-04-14 00:00:00       NaN 2021-04-14 03:00:00\n",
       "240 2021-04-14 03:00:00 -0.025414 2021-04-14 06:00:00\n",
       "\n",
       "[241 rows x 3 columns]"
      ],
      "text/html": "<div>\n<style scoped>\n    .dataframe tbody tr th:only-of-type {\n        vertical-align: middle;\n    }\n\n    .dataframe tbody tr th {\n        vertical-align: top;\n    }\n\n    .dataframe thead th {\n        text-align: right;\n    }\n</style>\n<table border=\"1\" class=\"dataframe\">\n  <thead>\n    <tr style=\"text-align: right;\">\n      <th></th>\n      <th>orig_date</th>\n      <th>compound</th>\n      <th>date</th>\n    </tr>\n  </thead>\n  <tbody>\n    <tr>\n      <th>0</th>\n      <td>2021-03-15 03:00:00</td>\n      <td>0.039934</td>\n      <td>2021-03-15 06:00:00</td>\n    </tr>\n    <tr>\n      <th>1</th>\n      <td>2021-03-15 06:00:00</td>\n      <td>0.007725</td>\n      <td>2021-03-15 09:00:00</td>\n    </tr>\n    <tr>\n      <th>2</th>\n      <td>2021-03-15 09:00:00</td>\n      <td>0.081969</td>\n      <td>2021-03-15 12:00:00</td>\n    </tr>\n    <tr>\n      <th>3</th>\n      <td>2021-03-15 12:00:00</td>\n      <td>0.124559</td>\n      <td>2021-03-15 15:00:00</td>\n    </tr>\n    <tr>\n      <th>4</th>\n      <td>2021-03-15 15:00:00</td>\n      <td>0.071304</td>\n      <td>2021-03-15 18:00:00</td>\n    </tr>\n    <tr>\n      <th>...</th>\n      <td>...</td>\n      <td>...</td>\n      <td>...</td>\n    </tr>\n    <tr>\n      <th>236</th>\n      <td>2021-04-13 15:00:00</td>\n      <td>NaN</td>\n      <td>2021-04-13 18:00:00</td>\n    </tr>\n    <tr>\n      <th>237</th>\n      <td>2021-04-13 18:00:00</td>\n      <td>NaN</td>\n      <td>2021-04-13 21:00:00</td>\n    </tr>\n    <tr>\n      <th>238</th>\n      <td>2021-04-13 21:00:00</td>\n      <td>NaN</td>\n      <td>2021-04-14 00:00:00</td>\n    </tr>\n    <tr>\n      <th>239</th>\n      <td>2021-04-14 00:00:00</td>\n      <td>NaN</td>\n      <td>2021-04-14 03:00:00</td>\n    </tr>\n    <tr>\n      <th>240</th>\n      <td>2021-04-14 03:00:00</td>\n      <td>-0.025414</td>\n      <td>2021-04-14 06:00:00</td>\n    </tr>\n  </tbody>\n</table>\n<p>241 rows × 3 columns</p>\n</div>"
     },
     "metadata": {},
     "execution_count": 12
    }
   ],
   "source": [
    "sentiment_scores_df"
   ]
  },
  {
   "cell_type": "code",
   "execution_count": 13,
   "metadata": {},
   "outputs": [],
   "source": [
    "bitcoin_prices_df['price_diff_lag_1'] = bitcoin_prices_df['price_diff'].shift(1)\n",
    "bitcoin_prices_df['price_diff_lag_2'] = bitcoin_prices_df['price_diff'].shift(2)\n",
    "bitcoin_prices_df['price_diff_lag_3'] = bitcoin_prices_df['price_diff'].shift(3)"
   ]
  },
  {
   "cell_type": "code",
   "execution_count": 14,
   "metadata": {},
   "outputs": [],
   "source": [
    "bitcoin_prices_df = bitcoin_prices_df.reset_index(drop=True)"
   ]
  },
  {
   "cell_type": "code",
   "execution_count": 15,
   "metadata": {},
   "outputs": [],
   "source": [
    "bitcoin_prices_df['day'] = bitcoin_prices_df['date'].dt.day"
   ]
  },
  {
   "cell_type": "code",
   "execution_count": 16,
   "metadata": {},
   "outputs": [],
   "source": [
    "bitcoin_prices_df['hour'] = bitcoin_prices_df['date'].dt.hour"
   ]
  },
  {
   "cell_type": "code",
   "execution_count": 17,
   "metadata": {},
   "outputs": [],
   "source": [
    "everything = bitcoin_prices_df.join(sentiment_scores_df.set_index('date'), on='date')"
   ]
  },
  {
   "cell_type": "code",
   "execution_count": 18,
   "metadata": {},
   "outputs": [],
   "source": [
    "everything = everything.dropna()"
   ]
  },
  {
   "cell_type": "code",
   "execution_count": 19,
   "metadata": {},
   "outputs": [],
   "source": [
    "features_df = everything[['date', 'price_diff_lag_1', 'price_diff_lag_2', 'price_diff_lag_3', 'day', 'hour', 'compound']]\n",
    "target_df = everything[['price_diff', 'date']]"
   ]
  },
  {
   "cell_type": "code",
   "execution_count": 20,
   "metadata": {},
   "outputs": [],
   "source": [
    "everything = features_df.join(target_df.set_index('date'), on='date')"
   ]
  },
  {
   "cell_type": "code",
   "execution_count": 21,
   "metadata": {},
   "outputs": [],
   "source": [
    "everything.to_parquet('../data/everything_v1.parquet.gzip', compression='gzip')"
   ]
  },
  {
   "cell_type": "code",
   "execution_count": null,
   "metadata": {},
   "outputs": [],
   "source": []
  }
 ]
}