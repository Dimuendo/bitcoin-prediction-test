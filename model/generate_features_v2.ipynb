{
 "metadata": {
  "language_info": {
   "codemirror_mode": {
    "name": "ipython",
    "version": 3
   },
   "file_extension": ".py",
   "mimetype": "text/x-python",
   "name": "python",
   "nbconvert_exporter": "python",
   "pygments_lexer": "ipython3",
   "version": "3.8.3"
  },
  "orig_nbformat": 2,
  "kernelspec": {
   "name": "python38364bit1818c8020fb1411ea722056923b143a3",
   "display_name": "Python 3.8.3 64-bit"
  },
  "metadata": {
   "interpreter": {
    "hash": "d7f35dd6cae827566a9d8dad183a08bee2c23219e7e2b9ff2c202c0227dff7eb"
   }
  }
 },
 "nbformat": 4,
 "nbformat_minor": 2,
 "cells": [
  {
   "cell_type": "code",
   "execution_count": 39,
   "metadata": {},
   "outputs": [],
   "source": [
    "import pandas as pd"
   ]
  },
  {
   "cell_type": "code",
   "execution_count": 40,
   "metadata": {},
   "outputs": [],
   "source": [
    "bitcoin_prices_df = pd.read_parquet('../data/bitcoin_prices.parquet.gzip')\n",
    "reddit_titles_df = pd.read_parquet('../data/reddit_titles.parquet.gzip')\n",
    "sentiment_scores_df = pd.read_parquet('../data/sentiment_scores.parquet.gzip')"
   ]
  },
  {
   "cell_type": "code",
   "execution_count": 41,
   "metadata": {},
   "outputs": [],
   "source": [
    "sentiment_scores_df = sentiment_scores_df.rename(columns={\n",
    "    'date': 'orig_date',\n",
    "    'offset_date': 'date'\n",
    "})"
   ]
  },
  {
   "cell_type": "code",
   "execution_count": 43,
   "metadata": {},
   "outputs": [
    {
     "output_type": "execute_result",
     "data": {
      "text/plain": [
       "0                        NaN\n",
       "1          (273.887, 2192.6]\n",
       "2      (-2574.701, -194.023]\n",
       "3        (-194.023, 273.887]\n",
       "4      (-2574.701, -194.023]\n",
       "               ...          \n",
       "236    (-2574.701, -194.023]\n",
       "237      (-194.023, 273.887]\n",
       "238        (273.887, 2192.6]\n",
       "239      (-194.023, 273.887]\n",
       "240        (273.887, 2192.6]\n",
       "Name: price_diff, Length: 241, dtype: category\n",
       "Categories (3, interval[float64]): [(-2574.701, -194.023] < (-194.023, 273.887] < (273.887, 2192.6]]"
      ]
     },
     "metadata": {},
     "execution_count": 43
    }
   ],
   "source": [
    "pd.qcut(bitcoin_prices_df['price_diff'], q=num_buckets)"
   ]
  },
  {
   "cell_type": "code",
   "execution_count": 29,
   "metadata": {},
   "outputs": [],
   "source": [
    "num_buckets = 3\n",
    "bitcoin_prices_df['price_diff'] = pd.qcut(bitcoin_prices_df['price_diff'], q=num_buckets, labels=range(num_buckets))"
   ]
  },
  {
   "cell_type": "code",
   "execution_count": 30,
   "metadata": {},
   "outputs": [],
   "source": [
    "bitcoin_prices_df['price_diff_lag_1'] = bitcoin_prices_df['price_diff'].shift(1)\n",
    "bitcoin_prices_df['price_diff_lag_2'] = bitcoin_prices_df['price_diff'].shift(2)\n",
    "bitcoin_prices_df['price_diff_lag_3'] = bitcoin_prices_df['price_diff'].shift(3)"
   ]
  },
  {
   "cell_type": "code",
   "execution_count": 31,
   "metadata": {},
   "outputs": [],
   "source": [
    "bitcoin_prices_df = bitcoin_prices_df.reset_index(drop=True)"
   ]
  },
  {
   "cell_type": "code",
   "execution_count": 32,
   "metadata": {},
   "outputs": [],
   "source": [
    "bitcoin_prices_df['day'] = bitcoin_prices_df['date'].dt.day"
   ]
  },
  {
   "cell_type": "code",
   "execution_count": 33,
   "metadata": {},
   "outputs": [],
   "source": [
    "bitcoin_prices_df['hour'] = bitcoin_prices_df['date'].dt.hour"
   ]
  },
  {
   "cell_type": "code",
   "execution_count": 34,
   "metadata": {},
   "outputs": [],
   "source": [
    "everything = bitcoin_prices_df.join(sentiment_scores_df.set_index('date'), on='date')"
   ]
  },
  {
   "cell_type": "code",
   "execution_count": 35,
   "metadata": {},
   "outputs": [],
   "source": [
    "everything = everything.dropna()"
   ]
  },
  {
   "cell_type": "code",
   "execution_count": 36,
   "metadata": {},
   "outputs": [],
   "source": [
    "features_df = everything[['date', 'price_diff_lag_1', 'price_diff_lag_2', 'price_diff_lag_3', 'day', 'hour', 'compound']]\n",
    "target_df = everything[['price_diff', 'date']]"
   ]
  },
  {
   "cell_type": "code",
   "execution_count": 37,
   "metadata": {},
   "outputs": [],
   "source": [
    "everything = features_df.join(target_df.set_index('date'), on='date')"
   ]
  },
  {
   "cell_type": "code",
   "execution_count": 38,
   "metadata": {},
   "outputs": [],
   "source": [
    "everything.to_parquet('../data/everything_v2.parquet.gzip', compression='gzip')"
   ]
  },
  {
   "cell_type": "code",
   "execution_count": null,
   "metadata": {},
   "outputs": [],
   "source": []
  }
 ]
}